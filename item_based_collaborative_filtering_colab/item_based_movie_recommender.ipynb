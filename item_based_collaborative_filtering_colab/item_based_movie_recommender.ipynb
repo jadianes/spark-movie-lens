{
  "nbformat": 4,
  "nbformat_minor": 0,
  "metadata": {
    "colab": {
      "name": "item-based-movie-recommender.ipynb",
      "provenance": []
    },
    "kernelspec": {
      "name": "python3",
      "display_name": "Python 3"
    }
  },
  "cells": [
    {
      "cell_type": "markdown",
      "metadata": {
        "id": "_bz0Z5MQzZTo"
      },
      "source": [
        "**Item Based Collaborative filtering on MovieLens Dataset**"
      ]
    },
    {
      "cell_type": "code",
      "metadata": {
        "id": "LfH6WHg3Yi7r"
      },
      "source": [
        "import os\n",
        "\n",
        "# Download Java JDK Version 8\n",
        "!apt-get install openjdk-8-jdk-headless -qq > /dev/null\n",
        "\n",
        "# Download and Install Apache Spark (with Findspark)\n",
        "!wget -q https://downloads.apache.org/spark/spark-3.0.1/spark-3.0.1-bin-hadoop2.7.tgz\n",
        "!tar xf spark-3.0.1-bin-hadoop2.7.tgz\n",
        "!pip install -q findspark"
      ],
      "execution_count": null,
      "outputs": []
    },
    {
      "cell_type": "code",
      "metadata": {
        "id": "tbKDlGCeYz8s"
      },
      "source": [
        "# Set Environment Variables\n",
        "os.environ[\"JAVA_HOME\"] = \"/usr/lib/jvm/java-8-openjdk-amd64\"\n",
        "os.environ[\"SPARK_HOME\"] = \"/content/spark-3.0.1-bin-hadoop2.7\""
      ],
      "execution_count": null,
      "outputs": []
    },
    {
      "cell_type": "code",
      "metadata": {
        "id": "S-uVLA12ZKjB"
      },
      "source": [
        "# Findspark for Jupyter Notebook (spark-2.4.4-bin-hadoop2.7)\n",
        "import findspark\n",
        "findspark.init()\n",
        "\n",
        "# Start Apache Spark Session & Context\n",
        "from pyspark import SparkContext\n",
        "sc = SparkContext(appName='item-based-movie_recommendation-Model')"
      ],
      "execution_count": null,
      "outputs": []
    },
    {
      "cell_type": "code",
      "metadata": {
        "id": "_3wovae1Z47G",
        "outputId": "cebcc760-b3c9-4725-b57f-458447dbd860",
        "colab": {
          "base_uri": "https://localhost:8080/",
          "height": 34
        }
      },
      "source": [
        "from google.colab import drive\n",
        "drive.mount('/content/drive');"
      ],
      "execution_count": null,
      "outputs": [
        {
          "output_type": "stream",
          "text": [
            "Drive already mounted at /content/drive; to attempt to forcibly remount, call drive.mount(\"/content/drive\", force_remount=True).\n"
          ],
          "name": "stdout"
        }
      ]
    },
    {
      "cell_type": "code",
      "metadata": {
        "id": "TqiW2lYDastC"
      },
      "source": [
        "datasets_path = \"drive/My Drive/Private/movie-dataset/\"\n",
        "\n",
        "# assigns the ratings raw data variable of the small movie ratings\n",
        "small_ratings_file = os.path.join(datasets_path, 'ml-latest-small', 'ratings.csv')\n",
        "\n",
        "small_ratings_raw_data = sc.textFile(small_ratings_file)\n",
        "small_ratings_raw_data_header = small_ratings_raw_data.take(1)[0]"
      ],
      "execution_count": null,
      "outputs": []
    },
    {
      "cell_type": "code",
      "metadata": {
        "id": "7sbzecQrcHn0"
      },
      "source": [
        "# filters to remove the header from the data, splits the data into columns and assigns the three columns\n",
        "# The four columns contained in the ratings data are userId,movieId,rating,timestamp\n",
        "# We ignore timestamp in the modeling here\n",
        "small_ratings_data = small_ratings_raw_data.filter(lambda line: line!=small_ratings_raw_data_header)\\\n",
        "    .map(lambda line: line.split(\",\")).map(lambda tokens: (tokens[0],tokens[1],tokens[2])).cache()"
      ],
      "execution_count": null,
      "outputs": []
    },
    {
      "cell_type": "code",
      "metadata": {
        "id": "ViGPRBFxcPvA",
        "outputId": "a31ba107-d10b-4d5a-f44c-5b50997c6274",
        "colab": {
          "base_uri": "https://localhost:8080/",
          "height": 34
        }
      },
      "source": [
        "# The columns are userId,movieId,rating\n",
        "small_ratings_data.take(3)"
      ],
      "execution_count": null,
      "outputs": [
        {
          "output_type": "execute_result",
          "data": {
            "text/plain": [
              "[('1', '1', '4.0'), ('1', '3', '4.0'), ('1', '6', '4.0')]"
            ]
          },
          "metadata": {
            "tags": []
          },
          "execution_count": 7
        }
      ]
    },
    {
      "cell_type": "code",
      "metadata": {
        "id": "-Q07prlncY3G",
        "outputId": "f7eebd6a-6fbb-4209-b5ce-0a86ce21054f",
        "colab": {
          "base_uri": "https://localhost:8080/",
          "height": 68
        }
      },
      "source": [
        "# Assigns the movies title file of the small movie data set\n",
        "small_movies_file = os.path.join(datasets_path, 'ml-latest-small', 'movies.csv')\n",
        "\n",
        "small_movies_raw_data = sc.textFile(small_movies_file)\n",
        "small_movies_raw_data_header = small_movies_raw_data.take(1)[0]\n",
        "\n",
        "small_movies_data = small_movies_raw_data.filter(lambda line: line!=small_movies_raw_data_header)\\\n",
        "    .map(lambda line: line.split(\",\")).map(lambda tokens: (tokens[0],tokens[1])).cache()\n",
        "\n",
        "small_movies_data.take(3)"
      ],
      "execution_count": null,
      "outputs": [
        {
          "output_type": "execute_result",
          "data": {
            "text/plain": [
              "[('1', 'Toy Story (1995)'),\n",
              " ('2', 'Jumanji (1995)'),\n",
              " ('3', 'Grumpier Old Men (1995)')]"
            ]
          },
          "metadata": {
            "tags": []
          },
          "execution_count": 8
        }
      ]
    },
    {
      "cell_type": "code",
      "metadata": {
        "id": "Sbweb-wccekW",
        "outputId": "de26e251-931d-469c-ca7c-59bc9048e75c",
        "colab": {
          "base_uri": "https://localhost:8080/",
          "height": 68
        }
      },
      "source": [
        "small_movies_titles = small_movies_data.map(lambda x: (int(x[0]),x[1]))\n",
        "small_movies_titles.take(3)"
      ],
      "execution_count": null,
      "outputs": [
        {
          "output_type": "execute_result",
          "data": {
            "text/plain": [
              "[(1, 'Toy Story (1995)'),\n",
              " (2, 'Jumanji (1995)'),\n",
              " (3, 'Grumpier Old Men (1995)')]"
            ]
          },
          "metadata": {
            "tags": []
          },
          "execution_count": 9
        }
      ]
    },
    {
      "cell_type": "code",
      "metadata": {
        "id": "GATp3YKEchYz"
      },
      "source": [
        "# create training, validation and test data sets\n",
        "small_training_RDD, small_validation_RDD, small_test_RDD = small_ratings_data.randomSplit([6, 2, 2], seed=0)\n",
        "small_validation_for_predict_RDD = small_validation_RDD.map(lambda x: (x[0], x[1]))\n",
        "small_test_for_predict_RDD = small_test_RDD.map(lambda x: (x[0], x[1]))"
      ],
      "execution_count": null,
      "outputs": []
    },
    {
      "cell_type": "code",
      "metadata": {
        "id": "AaqwRzerctR8",
        "outputId": "09c90a2b-c381-4ecc-c9c7-1c9c0fa7b831",
        "colab": {
          "base_uri": "https://localhost:8080/",
          "height": 153
        }
      },
      "source": [
        "# Train the model using the training dataset and predict the error using the validation dataset\n",
        "# Rank 40 gave the lowest error and this rank will be used to train the large dataset\n",
        "from pyspark.mllib.recommendation import ALS\n",
        "import math\n",
        "\n",
        "seed = 5\n",
        "iterations = 10\n",
        "regularization_parameter = 0.1\n",
        "ranks = [4, 8, 12,25,30,40,50]\n",
        "errors = [0, 0, 0,0,0,0,0]\n",
        "err = 0\n",
        "tolerance = 0.02\n",
        "\n",
        "min_error = float('inf')\n",
        "best_rank = -1\n",
        "best_iteration = -1\n",
        "for rank in ranks:\n",
        "    model = ALS.train(small_training_RDD, rank, seed=seed, iterations=iterations,\n",
        "                      lambda_=regularization_parameter)\n",
        "    predictions = model.predictAll(small_validation_for_predict_RDD).map(lambda r: ((r[0], r[1]), r[2]))\n",
        "    rates_and_preds = small_validation_RDD.map(lambda r: ((int(r[0]), int(r[1])), float(r[2]))).join(predictions)\n",
        "    error = math.sqrt(rates_and_preds.map(lambda r: (r[1][0] - r[1][1])**2).mean())\n",
        "    errors[err] = error\n",
        "    err += 1\n",
        "    print('For rank %s the RMSE is %s' % (rank, error))\n",
        "    if error < min_error:\n",
        "        min_error = error\n",
        "        best_rank = rank\n",
        "print('The best model was trained with rank %s' % best_rank)"
      ],
      "execution_count": null,
      "outputs": [
        {
          "output_type": "stream",
          "text": [
            "For rank 4 the RMSE is 0.9121002114021121\n",
            "For rank 8 the RMSE is 0.9184327213070025\n",
            "For rank 12 the RMSE is 0.9160151537868968\n",
            "For rank 25 the RMSE is 0.9132077259174307\n",
            "For rank 30 the RMSE is 0.9137297663767054\n",
            "For rank 40 the RMSE is 0.9112483859775192\n",
            "For rank 50 the RMSE is 0.910364842826824\n",
            "The best model was trained with rank 50\n"
          ],
          "name": "stdout"
        }
      ]
    },
    {
      "cell_type": "code",
      "metadata": {
        "id": "jRVol2csdIOM",
        "outputId": "9633162a-b4c5-4059-f871-f117f574756f",
        "colab": {
          "base_uri": "https://localhost:8080/",
          "height": 34
        }
      },
      "source": [
        "# The ALS trained model has userFeatures and productFeatures matrix\n",
        "(model.userFeatures().count())"
      ],
      "execution_count": null,
      "outputs": [
        {
          "output_type": "execute_result",
          "data": {
            "text/plain": [
              "610"
            ]
          },
          "metadata": {
            "tags": []
          },
          "execution_count": 12
        }
      ]
    },
    {
      "cell_type": "code",
      "metadata": {
        "id": "0zqvaYVtdM84",
        "outputId": "b11021c8-3322-43fc-a6f4-da44fd7b1fd2",
        "colab": {
          "base_uri": "https://localhost:8080/",
          "height": 34
        }
      },
      "source": [
        "# The productFeatures matrix will be used to create an item-item collaborative filtering recommendation model\n",
        "model.productFeatures().count()"
      ],
      "execution_count": null,
      "outputs": [
        {
          "output_type": "execute_result",
          "data": {
            "text/plain": [
              "8108"
            ]
          },
          "metadata": {
            "tags": []
          },
          "execution_count": 13
        }
      ]
    },
    {
      "cell_type": "code",
      "metadata": {
        "id": "QIOBwcz2dbQd",
        "outputId": "8cb81123-f8dc-4b23-f7d2-d09478ae41a3",
        "colab": {
          "base_uri": "https://localhost:8080/",
          "height": 54
        }
      },
      "source": [
        "model.productFeatures().lookup(1084)[0]"
      ],
      "execution_count": null,
      "outputs": [
        {
          "output_type": "execute_result",
          "data": {
            "text/plain": [
              "array('d', [0.39810314774513245, -0.29046911001205444, -0.1648561954498291, 0.3116704225540161, -0.7353532314300537, -0.6675311923027039, 0.6000886559486389, 0.19133085012435913, 0.022775545716285706, -0.5071583390235901, 0.20149832963943481, 0.3613540232181549, -0.08961668610572815, -0.3068521320819855, 0.4140118658542633, 0.218542218208313, 0.13478650152683258, -0.24588732421398163, 0.012199376709759235, -0.279768168926239, 0.263459712266922, 0.10598113387823105, 0.5126112699508667, -0.7114983201026917, -0.2845548689365387, 0.09647301584482193, 0.2586582899093628, -0.24576963484287262, 0.19419355690479279, 0.322068989276886, -0.18895022571086884, 0.08893996477127075, 0.2329738736152649, -0.1257471889257431, 0.06765387207269669, -0.1970863789319992, -0.09525509178638458, 0.11352469772100449, 0.06367164850234985, -0.12774166464805603, -0.08439932018518448, 0.2912535071372986, 0.6823577880859375, -0.26788848638534546, -0.11575732380151749, -0.172343909740448, 0.33088189363479614, 0.27958229184150696, 0.45832768082618713, -0.1449328362941742])"
            ]
          },
          "metadata": {
            "tags": []
          },
          "execution_count": 14
        }
      ]
    },
    {
      "cell_type": "code",
      "metadata": {
        "id": "WN5NjOd2dcjj"
      },
      "source": [
        "import numpy as np\n",
        "from numpy import linalg as LA"
      ],
      "execution_count": null,
      "outputs": []
    },
    {
      "cell_type": "code",
      "metadata": {
        "id": "tCSBTQzodjX1"
      },
      "source": [
        "def cosineSimilarity(vec1, vec2):\n",
        "  return vec1.dot(vec2) / (LA.norm(vec1) * LA.norm(vec2))"
      ],
      "execution_count": null,
      "outputs": []
    },
    {
      "cell_type": "code",
      "metadata": {
        "id": "2T0oVNdXdmT4",
        "outputId": "ffd08f60-96c5-43c7-d218-c69363a86b0f",
        "colab": {
          "base_uri": "https://localhost:8080/",
          "height": 187
        }
      },
      "source": [
        "# Choose a movie ID to predict the similar movies to it\n",
        "itemId = 1084\n",
        "itemFactor = np.asarray(model.productFeatures().lookup(itemId))[0]\n",
        "itemFactor"
      ],
      "execution_count": null,
      "outputs": [
        {
          "output_type": "execute_result",
          "data": {
            "text/plain": [
              "array([ 0.39810315, -0.29046911, -0.1648562 ,  0.31167042, -0.73535323,\n",
              "       -0.66753119,  0.60008866,  0.19133085,  0.02277555, -0.50715834,\n",
              "        0.20149833,  0.36135402, -0.08961669, -0.30685213,  0.41401187,\n",
              "        0.21854222,  0.1347865 , -0.24588732,  0.01219938, -0.27976817,\n",
              "        0.26345971,  0.10598113,  0.51261127, -0.71149832, -0.28455487,\n",
              "        0.09647302,  0.25865829, -0.24576963,  0.19419356,  0.32206899,\n",
              "       -0.18895023,  0.08893996,  0.23297387, -0.12574719,  0.06765387,\n",
              "       -0.19708638, -0.09525509,  0.1135247 ,  0.06367165, -0.12774166,\n",
              "       -0.08439932,  0.29125351,  0.68235779, -0.26788849, -0.11575732,\n",
              "       -0.17234391,  0.33088189,  0.27958229,  0.45832768, -0.14493284])"
            ]
          },
          "metadata": {
            "tags": []
          },
          "execution_count": 17
        }
      ]
    },
    {
      "cell_type": "code",
      "metadata": {
        "id": "qS4KVJP9dsJR",
        "outputId": "7b2f1af2-bcc0-4e82-c49e-9dd425b8faf5",
        "colab": {
          "base_uri": "https://localhost:8080/",
          "height": 34
        }
      },
      "source": [
        "cosineSimilarity(itemFactor,itemFactor)"
      ],
      "execution_count": null,
      "outputs": [
        {
          "output_type": "execute_result",
          "data": {
            "text/plain": [
              "1.0000000000000002"
            ]
          },
          "metadata": {
            "tags": []
          },
          "execution_count": 18
        }
      ]
    },
    {
      "cell_type": "code",
      "metadata": {
        "id": "gBJHJrNGdwEE",
        "outputId": "4f2832df-c109-4320-a2c1-6e5e94748d58",
        "colab": {
          "base_uri": "https://localhost:8080/",
          "height": 68
        }
      },
      "source": [
        "# similarity matrix built for a particular movie item using the product features matrix\n",
        "sims = model.productFeatures().map(lambda products:(products[0],\n",
        "                                        cosineSimilarity(np.asarray(products[1]), itemFactor)))\\\n",
        "                                .join(small_movies_titles).map(lambda r: (r[1][1], r[1][0], r[0]))\n",
        "sims.take(3)"
      ],
      "execution_count": null,
      "outputs": [
        {
          "output_type": "execute_result",
          "data": {
            "text/plain": [
              "[('Waiting to Exhale (1995)', 0.6360031591374433, 4),\n",
              " ('Tom and Huck (1995)', 0.45465474118549326, 8),\n",
              " ('Dracula: Dead and Loving It (1995)', 0.47638501529621, 12)]"
            ]
          },
          "metadata": {
            "tags": []
          },
          "execution_count": 19
        }
      ]
    },
    {
      "cell_type": "code",
      "metadata": {
        "id": "KArLXBGVd7Nl",
        "outputId": "e4788288-eab6-4f49-efc7-8793954de61d",
        "colab": {
          "base_uri": "https://localhost:8080/",
          "height": 357
        }
      },
      "source": [
        "sortedSims = sims.takeOrdered(20, key=lambda x: -x[1])\n",
        "sortedSims"
      ],
      "execution_count": null,
      "outputs": [
        {
          "output_type": "execute_result",
          "data": {
            "text/plain": [
              "[('Bonnie and Clyde (1967)', 1.0000000000000002, 1084),\n",
              " ('3:10 to Yuma (1957)', 0.9485227892121055, 5300),\n",
              " ('Lenny (1974)', 0.9485227892121055, 5341),\n",
              " ('\"4 Months', 0.9485227892121055, 55069),\n",
              " ('Thief (1981)', 0.9485227892121055, 5867),\n",
              " ('\"Story of Women (Affaire de femmes', 0.9485227880204576, 8804),\n",
              " ('Control (2007)', 0.9485227880204576, 55444),\n",
              " ('\"Last Seduction', 0.9485227880204576, 5893),\n",
              " ('\"Passenger', 0.9485227880204576, 26350),\n",
              " ('\"Marriage of Maria Braun', 0.9485227880204576, 31522),\n",
              " ('\"Lust', 0.9485227873491127, 55253),\n",
              " ('Little Children (2006)', 0.9477962784256139, 48696),\n",
              " (\"Babette's Feast (Babettes gæstebud) (1987)\", 0.9447845882000453, 6791),\n",
              " ('Clockwatchers (1997)', 0.9419216814569622, 1875),\n",
              " ('\"Palm Beach Story', 0.9366419346082678, 2937),\n",
              " ('Secrets & Lies (1996)', 0.9336650957969266, 1041),\n",
              " ('Pat Garrett and Billy the Kid (1973)', 0.9335813218582445, 7889),\n",
              " ('In the Heat of the Night (1967)', 0.9329165534542325, 1950),\n",
              " ('\"Face in the Crowd', 0.9304200228344455, 3038),\n",
              " ('Breaking Away (1979)', 0.9301800889219352, 3359)]"
            ]
          },
          "metadata": {
            "tags": []
          },
          "execution_count": 20
        }
      ]
    },
    {
      "cell_type": "code",
      "metadata": {
        "id": "jmZ9kuKSd9y2",
        "outputId": "6b5b0244-1030-4f62-e183-22d21baf24b9",
        "colab": {
          "base_uri": "https://localhost:8080/",
          "height": 68
        }
      },
      "source": [
        "predictions.take(3)"
      ],
      "execution_count": null,
      "outputs": [
        {
          "output_type": "execute_result",
          "data": {
            "text/plain": [
              "[((372, 1084), 3.522072819467323),\n",
              " ((4, 1084), 3.540132540956333),\n",
              " ((402, 1084), 3.319105112869569)]"
            ]
          },
          "metadata": {
            "tags": []
          },
          "execution_count": 21
        }
      ]
    },
    {
      "cell_type": "code",
      "metadata": {
        "id": "YamvC0MYeB7W",
        "outputId": "456195d9-6348-4742-b7f1-6543272d539a",
        "colab": {
          "base_uri": "https://localhost:8080/",
          "height": 68
        }
      },
      "source": [
        "rates_and_preds.take(3)"
      ],
      "execution_count": null,
      "outputs": [
        {
          "output_type": "execute_result",
          "data": {
            "text/plain": [
              "[((1, 457), (5.0, 4.521268898300244)),\n",
              " ((1, 1025), (5.0, 4.517873821845743)),\n",
              " ((1, 1089), (5.0, 4.7671637254739085))]"
            ]
          },
          "metadata": {
            "tags": []
          },
          "execution_count": 22
        }
      ]
    },
    {
      "cell_type": "code",
      "metadata": {
        "id": "B1QC7K8geE8M",
        "outputId": "f406ff10-32d0-42c7-a4c8-6c62b1bd40e2",
        "colab": {
          "base_uri": "https://localhost:8080/",
          "height": 34
        }
      },
      "source": [
        "# Load the complete ratings dataset file\n",
        "complete_ratings_file = os.path.join(datasets_path, 'ml-latest', 'ratings.csv')\n",
        "complete_ratings_raw_data = sc.textFile(complete_ratings_file)\n",
        "complete_ratings_raw_data_header = complete_ratings_raw_data.take(1)[0]\n",
        "\n",
        "# Parse\n",
        "complete_ratings_data = complete_ratings_raw_data.filter(lambda line: line!=complete_ratings_raw_data_header)\\\n",
        "    .map(lambda line: line.split(\",\")).map(lambda tokens: (int(tokens[0]),int(tokens[1]),float(tokens[2]))).cache()\n",
        "\n",
        "print('There are %s recommendations in the complete dataset' % (complete_ratings_data.count()))"
      ],
      "execution_count": null,
      "outputs": [
        {
          "output_type": "stream",
          "text": [
            "There are 27753444 recommendations in the complete dataset\n"
          ],
          "name": "stdout"
        }
      ]
    },
    {
      "cell_type": "code",
      "metadata": {
        "id": "BXY2RXTmeR9v"
      },
      "source": [
        "# Training and Test data from the complete movie dataset\n",
        "training_RDD, test_RDD = complete_ratings_data.randomSplit([7, 3], seed=0)\n",
        "\n",
        "complete_model = ALS.train(training_RDD, best_rank, seed=seed, \n",
        "                           iterations=iterations, lambda_=regularization_parameter)"
      ],
      "execution_count": null,
      "outputs": []
    },
    {
      "cell_type": "code",
      "metadata": {
        "id": "hXl98_EweUra",
        "outputId": "94d04552-4859-472b-f835-3a988be6bd17",
        "colab": {
          "base_uri": "https://localhost:8080/",
          "height": 34
        }
      },
      "source": [
        "test_for_predict_RDD = test_RDD.map(lambda x: (x[0], x[1]))\n",
        "\n",
        "predictions = complete_model.predictAll(test_for_predict_RDD).map(lambda r: ((r[0], r[1]), r[2]))\n",
        "rates_and_preds = test_RDD.map(lambda r: ((int(r[0]), int(r[1])), float(r[2]))).join(predictions)\n",
        "error = math.sqrt(rates_and_preds.map(lambda r: (r[1][0] - r[1][1])**2).mean())\n",
        "\n",
        "print('For testing data the RMSE is %s' % (error))"
      ],
      "execution_count": null,
      "outputs": [
        {
          "output_type": "stream",
          "text": [
            "For testing data the RMSE is 0.8189249933498421\n"
          ],
          "name": "stdout"
        }
      ]
    },
    {
      "cell_type": "code",
      "metadata": {
        "id": "AC1gLQLLellZ",
        "outputId": "2cc70ef9-b022-4d13-85f7-dc866fb871bc",
        "colab": {
          "base_uri": "https://localhost:8080/",
          "height": 34
        }
      },
      "source": [
        "# Load the complete movie titles file\n",
        "complete_movies_file = os.path.join(datasets_path, 'ml-latest', 'movies.csv')\n",
        "complete_movies_raw_data = sc.textFile(complete_movies_file)\n",
        "complete_movies_raw_data_header = complete_movies_raw_data.take(1)[0]\n",
        "\n",
        "# Parse\n",
        "complete_movies_data = complete_movies_raw_data.filter(lambda line: line!=complete_movies_raw_data_header)\\\n",
        "    .map(lambda line: line.split(\",\")).map(lambda tokens: (int(tokens[0]),tokens[1],tokens[2])).cache()\n",
        "\n",
        "complete_movies_titles = complete_movies_data.map(lambda x: (int(x[0]),x[1]))\n",
        "\n",
        "print('There are %s movies in the complete dataset' % (complete_movies_titles.count()))"
      ],
      "execution_count": null,
      "outputs": [
        {
          "output_type": "stream",
          "text": [
            "There are 58098 movies in the complete dataset\n"
          ],
          "name": "stdout"
        }
      ]
    },
    {
      "cell_type": "code",
      "metadata": {
        "id": "BetS-jnWe9L4",
        "outputId": "dafbc417-e20f-4a17-ea12-0b698ec554cc",
        "colab": {
          "base_uri": "https://localhost:8080/",
          "height": 34
        }
      },
      "source": [
        "def get_counts_and_averages(ID_and_ratings_tuple):\n",
        "    nratings = len(ID_and_ratings_tuple[1])\n",
        "    return ID_and_ratings_tuple[0], (nratings, float(sum(x for x in ID_and_ratings_tuple[1]))/nratings)\n",
        "\n",
        "movie_ID_with_ratings_RDD = (complete_ratings_data.map(lambda x: (x[1], x[2])).groupByKey())\n",
        "movie_ID_with_avg_ratings_RDD = movie_ID_with_ratings_RDD.map(get_counts_and_averages)\n",
        "movie_rating_counts_RDD = movie_ID_with_avg_ratings_RDD.map(lambda x: (x[0], x[1][0]))\n",
        "complete_model.productFeatures().count()"
      ],
      "execution_count": null,
      "outputs": [
        {
          "output_type": "execute_result",
          "data": {
            "text/plain": [
              "50094"
            ]
          },
          "metadata": {
            "tags": []
          },
          "execution_count": 27
        }
      ]
    },
    {
      "cell_type": "code",
      "metadata": {
        "id": "4523nZ6XfDfn",
        "outputId": "0e92edbb-7e0e-46c3-f224-f0888a3107d5",
        "colab": {
          "base_uri": "https://localhost:8080/",
          "height": 34
        }
      },
      "source": [
        "movie_ID_with_avg_ratings_RDD.count()"
      ],
      "execution_count": null,
      "outputs": [
        {
          "output_type": "execute_result",
          "data": {
            "text/plain": [
              "53889"
            ]
          },
          "metadata": {
            "tags": []
          },
          "execution_count": 28
        }
      ]
    },
    {
      "cell_type": "code",
      "metadata": {
        "id": "O9EIt1OBfKLS"
      },
      "source": [
        "# Chosen MovieID for calculating similar movies\n",
        "itemId = 25800\n",
        "\n",
        "complete_itemFactor = np.asarray(complete_model.productFeatures().lookup(itemId))[0]\n",
        "\n",
        "# calculating the similarity coefficients of all the movies against the chosen movie ID\n",
        "complete_sims = complete_model.productFeatures().map(lambda products:(products[0],\n",
        "                                        cosineSimilarity(np.asarray(products[1]), complete_itemFactor)))\\\n",
        "                                .join(complete_movies_titles).join(movie_rating_counts_RDD)\\\n",
        "                                .join(movie_ID_with_avg_ratings_RDD)\n",
        "complete_sims = complete_sims.map(lambda r: (r[1][0][0][1], r[1][0][0][0], r[0], r[1][0][1], r[1][1][1]))"
      ],
      "execution_count": null,
      "outputs": []
    },
    {
      "cell_type": "code",
      "metadata": {
        "id": "9U7FxsjgfRuT",
        "outputId": "e47b12a8-b4a1-4aa6-ce9c-801d905467ea",
        "colab": {
          "base_uri": "https://localhost:8080/",
          "height": 697
        }
      },
      "source": [
        "# Filter the data by movieIDs that have the count of user ratings higher than five\n",
        "# Sort the similarity data by decreasing order of the similarity coefficient, and then take the top 20 from the ordered\n",
        "# list\n",
        "complete_sortedSims = complete_sims.filter(lambda r: r[3]>=5).takeOrdered(20, key=lambda x: -x[1])\n",
        "complete_sortedSims"
      ],
      "execution_count": null,
      "outputs": [
        {
          "output_type": "execute_result",
          "data": {
            "text/plain": [
              "[('Lady for a Day (1933)', 0.9999999999999999, 25800, 23, 3.5),\n",
              " ('Fanny (1961)', 0.9787880117586683, 63629, 14, 3.3214285714285716),\n",
              " ('Take Out (2004)', 0.9648250427600895, 90895, 10, 3.5),\n",
              " ('The Possibilities Are Endless (2014)',\n",
              "  0.9627766247028035,\n",
              "  135228,\n",
              "  7,\n",
              "  4.071428571428571),\n",
              " ('The Mobfathers (2016)', 0.9621657346771444, 161976, 6, 2.5833333333333335),\n",
              " ('Teenage Kicks (2016)', 0.9609674082641296, 169190, 7, 3.2857142857142856),\n",
              " ('Vertical Features Remake (1978)', 0.960817656462365, 109598, 8, 4.0625),\n",
              " ('Sin hijos (2015)', 0.9607987565712782, 153830, 5, 3.0),\n",
              " ('\"Pool', 0.9605592842410388, 62420, 11, 3.3636363636363638),\n",
              " ('Temptation of a Monk (You Seng) (1993)', 0.9593227749239196, 7754, 5, 2.2),\n",
              " (\"Manuscripts Don't Burn (2013)\", 0.9579743909949162, 149616, 5, 3.9),\n",
              " ('In the Shadow of Women (2015)',\n",
              "  0.9560931551192208,\n",
              "  152258,\n",
              "  6,\n",
              "  3.6666666666666665),\n",
              " ('Social Genocide (Memoria del saqueo) (2004)',\n",
              "  0.9560019842385644,\n",
              "  109251,\n",
              "  6,\n",
              "  3.75),\n",
              " ('#chicagoGirl: The Social Network Takes on a Dictator (2013)',\n",
              "  0.9550940961669551,\n",
              "  111878,\n",
              "  5,\n",
              "  3.0),\n",
              " ('Port of Call (2015)', 0.9544234188011333, 158579, 6, 2.5),\n",
              " ('October Country (2009)', 0.9543370997711033, 82110, 7, 2.142857142857143),\n",
              " ('The Death and Life of Marsha P. Johnson (2017)',\n",
              "  0.9543370994501078,\n",
              "  179157,\n",
              "  6,\n",
              "  3.1666666666666665),\n",
              " ('Lovers and Lollipops (1956)', 0.9537347614145706, 108136, 5, 3.1),\n",
              " ('Tight Spot (1955)', 0.9536085456476736, 89116, 6, 2.9166666666666665),\n",
              " ('\"Home and the World', 0.953608149100701, 111401, 5, 4.1)]"
            ]
          },
          "metadata": {
            "tags": []
          },
          "execution_count": 30
        }
      ]
    },
    {
      "cell_type": "code",
      "metadata": {
        "id": "KfsYWtrCly6Z"
      },
      "source": [
        "# A test variable is created for pickling the productFeatures matrix data, combined with movie titles\n",
        "# and average ratings.  \n",
        "test2 = complete_model.productFeatures().join(complete_movies_titles)\\\n",
        "                                .join(movie_ID_with_avg_ratings_RDD)"
      ],
      "execution_count": null,
      "outputs": []
    },
    {
      "cell_type": "code",
      "metadata": {
        "id": "9TaeppQMl4tI"
      },
      "source": [
        "# pickle the productFeatures matrix\n",
        "test2.saveAsPickleFile(datasets_path+'item_based_features')"
      ],
      "execution_count": null,
      "outputs": []
    }
  ]
}